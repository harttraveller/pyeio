{
 "cells": [
  {
   "cell_type": "code",
   "execution_count": 1,
   "metadata": {},
   "outputs": [],
   "source": [
    "from pyeio import json"
   ]
  },
  {
   "cell_type": "code",
   "execution_count": 5,
   "metadata": {},
   "outputs": [],
   "source": [
    "from pathlib import Path"
   ]
  },
  {
   "cell_type": "code",
   "execution_count": 11,
   "metadata": {},
   "outputs": [
    {
     "data": {
      "text/plain": [
       "[]"
      ]
     },
     "execution_count": 11,
     "metadata": {},
     "output_type": "execute_result"
    }
   ],
   "source": [
    "list(Path(\"./test\").glob(\"**/*.asdf\"))"
   ]
  },
  {
   "cell_type": "code",
   "execution_count": 12,
   "metadata": {},
   "outputs": [],
   "source": [
    "def f():\n",
    "    for i in range(0):\n",
    "        yield (i, str(i))"
   ]
  },
  {
   "cell_type": "code",
   "execution_count": 13,
   "metadata": {},
   "outputs": [],
   "source": [
    "for i in f():\n",
    "    print(i)"
   ]
  },
  {
   "cell_type": "code",
   "execution_count": 2,
   "metadata": {},
   "outputs": [
    {
     "data": {
      "text/plain": [
       "{'books': [{'id': 1,\n",
       "   'title': 'To Kill a Mockingbird',\n",
       "   'author': 'Harper Lee',\n",
       "   'year': 1960,\n",
       "   'genres': ['Fiction', 'Classic', 'Coming-of-age'],\n",
       "   'rating': 4.27,\n",
       "   'inStock': True},\n",
       "  {'id': 2,\n",
       "   'title': '1984',\n",
       "   'author': 'George Orwell',\n",
       "   'year': 1949,\n",
       "   'genres': ['Fiction', 'Dystopian', 'Political'],\n",
       "   'rating': 4.18,\n",
       "   'inStock': False},\n",
       "  {'id': 3,\n",
       "   'title': 'Pride and Prejudice',\n",
       "   'author': 'Jane Austen',\n",
       "   'year': 1813,\n",
       "   'genres': ['Fiction', 'Romance', 'Classic'],\n",
       "   'rating': 4.25,\n",
       "   'inStock': True}],\n",
       " 'totalBooks': 3,\n",
       " 'lastUpdated': '2023-05-15T14:30:00Z'}"
      ]
     },
     "execution_count": 2,
     "metadata": {},
     "output_type": "execute_result"
    }
   ],
   "source": [
    "file.json.read(path=\"./test/data.json\")"
   ]
  },
  {
   "cell_type": "code",
   "execution_count": null,
   "metadata": {},
   "outputs": [],
   "source": []
  }
 ],
 "metadata": {
  "kernelspec": {
   "display_name": "pyeio",
   "language": "python",
   "name": "python3"
  },
  "language_info": {
   "codemirror_mode": {
    "name": "ipython",
    "version": 3
   },
   "file_extension": ".py",
   "mimetype": "text/x-python",
   "name": "python",
   "nbconvert_exporter": "python",
   "pygments_lexer": "ipython3",
   "version": "3.11.9"
  }
 },
 "nbformat": 4,
 "nbformat_minor": 2
}
