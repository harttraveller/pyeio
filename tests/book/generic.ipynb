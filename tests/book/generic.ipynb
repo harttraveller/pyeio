{
 "cells": [
  {
   "cell_type": "code",
   "execution_count": 4,
   "metadata": {},
   "outputs": [],
   "source": [
    "from pyeio import file\n",
    "from urllib.parse import urlparse"
   ]
  },
  {
   "cell_type": "code",
   "execution_count": 5,
   "metadata": {},
   "outputs": [
    {
     "data": {
      "text/plain": [
       "ParseResult(scheme='', netloc='', path='./file/test.json', params='', query='', fragment='')"
      ]
     },
     "execution_count": 5,
     "metadata": {},
     "output_type": "execute_result"
    }
   ],
   "source": [
    "urlparse(\"./file/test.json\")"
   ]
  },
  {
   "cell_type": "code",
   "execution_count": null,
   "metadata": {},
   "outputs": [],
   "source": []
  },
  {
   "cell_type": "code",
   "execution_count": 3,
   "metadata": {},
   "outputs": [
    {
     "data": {
      "text/plain": [
       "{'title': 'Entity',\n",
       " 'type': 'object',\n",
       " 'oneOf': [{'$ref': './item.schema.json'},\n",
       "  {'$ref': './property.schema.json'},\n",
       "  {'$ref': './lexeme.schema.json'}],\n",
       " '$defs': {'type': {'$anchor': 'type',\n",
       "   'description': 'The entity type identifier',\n",
       "   'type': 'string',\n",
       "   'enum': ['item', 'property', 'lexeme']},\n",
       "  'pageid': {'$anchor': 'pageid',\n",
       "   'description': 'The page id the entity is stored in',\n",
       "   'type': 'integer',\n",
       "   'minimum': 1,\n",
       "   'examples': [186]},\n",
       "  'ns': {'$anchor': 'ns',\n",
       "   'description': 'The namespace id of the page the entity is stored in',\n",
       "   'type': 'integer',\n",
       "   'minimum': 0},\n",
       "  'title': {'$anchor': 'title',\n",
       "   'description': 'The title of the page the entity is stored in',\n",
       "   'type': 'string',\n",
       "   'minLength': 1},\n",
       "  'lastrevid': {'$anchor': 'lastrevid',\n",
       "   'description': \"The JSON document's version\",\n",
       "   'type': 'integer',\n",
       "   'minimum': 1,\n",
       "   'examples': [195301613]},\n",
       "  'modified': {'$anchor': 'modified',\n",
       "   'description': \"The JSON document's publication date\",\n",
       "   'type': 'string',\n",
       "   'minLength': 20,\n",
       "   'maxLength': 20,\n",
       "   'format': 'date-time',\n",
       "   'pattern': '^\\\\d{4}-\\\\d{2}-\\\\d{2}T\\\\d{2}:\\\\d{2}:\\\\d{2}Z$',\n",
       "   'examples': ['2020-02-10T12:42:02Z']},\n",
       "  'labels': {'$anchor': 'labels',\n",
       "   'description': 'Contains the labels in different languages',\n",
       "   '$ref': './multilingual-text-value.schema.json#/$defs/values',\n",
       "   'type': 'object',\n",
       "   'minProperties': 0},\n",
       "  'descriptions': {'$anchor': 'descriptions',\n",
       "   'description': 'Contains the descriptions in different languages',\n",
       "   '$ref': './multilingual-text-value.schema.json#/$defs/values',\n",
       "   'type': 'object',\n",
       "   'minProperties': 0},\n",
       "  'aliases': {'$anchor': 'aliases',\n",
       "   'description': 'Contains aliases in different languages',\n",
       "   '$ref': './multilingual-text-value.schema.json#/$defs/multi-values'},\n",
       "  'group': {'$anchor': 'group',\n",
       "   'title': 'Entities',\n",
       "   'type': 'object',\n",
       "   'patternProperties': {'^Q[1-9][0-9]*$': {'$ref': './item.schema.json'},\n",
       "    '^P[1-9][0-9]*$': {'$ref': './property.schema.json'},\n",
       "    '^L[1-9][0-9]*$': {'$ref': './lexeme.schema.json'}},\n",
       "   'minProperties': 1}}}"
      ]
     },
     "execution_count": 3,
     "metadata": {},
     "output_type": "execute_result"
    }
   ],
   "source": [
    "file.json.load(\"../data/test.json\")"
   ]
  },
  {
   "cell_type": "code",
   "execution_count": null,
   "metadata": {},
   "outputs": [],
   "source": []
  }
 ],
 "metadata": {
  "kernelspec": {
   "display_name": "pyeio",
   "language": "python",
   "name": "python3"
  },
  "language_info": {
   "codemirror_mode": {
    "name": "ipython",
    "version": 3
   },
   "file_extension": ".py",
   "mimetype": "text/x-python",
   "name": "python",
   "nbconvert_exporter": "python",
   "pygments_lexer": "ipython3",
   "version": "3.11.9"
  }
 },
 "nbformat": 4,
 "nbformat_minor": 2
}
